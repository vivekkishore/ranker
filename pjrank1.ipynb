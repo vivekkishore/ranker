{
  "nbformat": 4,
  "nbformat_minor": 0,
  "metadata": {
    "colab": {
      "provenance": [],
      "authorship_tag": "ABX9TyNereSwyRGabNIM3fmcvWZj",
      "include_colab_link": true
    },
    "kernelspec": {
      "name": "python3",
      "display_name": "Python 3"
    },
    "language_info": {
      "name": "python"
    }
  },
  "cells": [
    {
      "cell_type": "markdown",
      "metadata": {
        "id": "view-in-github",
        "colab_type": "text"
      },
      "source": [
        "<a href=\"https://colab.research.google.com/github/vivekkishore/Pythonbasics/blob/main/pjrank1.ipynb\" target=\"_parent\"><img src=\"https://colab.research.google.com/assets/colab-badge.svg\" alt=\"Open In Colab\"/></a>"
      ]
    },
    {
      "cell_type": "markdown",
      "source": [
        "###imported libraries"
      ],
      "metadata": {
        "id": "88C8G_FeZw2E"
      }
    },
    {
      "cell_type": "code",
      "source": [
        "import pandas as pd\n",
        "import numpy as np\n",
        "import seaborn\n",
        "import matplotlib.pyplot as plt\n",
        "from sklearn.preprocessing import MinMaxScaler, LabelEncoder\n",
        "from sklearn.decomposition import PCA\n",
        "from sklearn.feature_extraction.text import TfidfVectorizer\n",
        "from sklearn.linear_model import LinearRegression, Lasso, Ridge\n",
        "from sklearn.model_selection import train_test_split, RandomizedSearchCV\n",
        "from sklearn.metrics import mean_absolute_error, mean_squared_error, r2_score\n",
        "from sklearn.preprocessing import PolynomialFeatures\n",
        "from sklearn.pipeline import make_pipeline\n",
        "from sklearn.neighbors import KNeighborsRegressor\n",
        "from sklearn.kernel_ridge import KernelRidge\n",
        "from sklearn.ensemble import ExtraTreesRegressor, RandomForestRegressor\n",
        "from sklearn.inspection import permutation_importance\n"
      ],
      "metadata": {
        "id": "hVA-_aUVnV1x"
      },
      "execution_count": 19,
      "outputs": []
    },
    {
      "cell_type": "markdown",
      "source": [
        "###Dataset creation"
      ],
      "metadata": {
        "id": "kkXBW7EGbyeA"
      }
    },
    {
      "cell_type": "code",
      "source": [
        "# pjrankdf1=pjrankdf[:0]\n",
        "# meeting_vals=pjrankdf['meeting details'][:10].tolist()\n",
        "# Job_profile_vals=pjrankdf['Job profile'][:15].tolist()\n",
        "# Job_family_vals= pjrankdf['Job family'][:15].tolist()\n",
        "# Primary_Skill_vals= pjrankdf['Primary Skill'][:15].tolist()\n",
        "# secondary_skill_vals=pjrankdf['secondary Skill'][:15].tolist()\n",
        "# certification_vals=pjrankdf['certifications'][:15].tolist()\n",
        "# lang_vals=pjrankdf['Language proficiency'][:6].tolist()\n",
        "# manag_vals=['12-Associate','11-Analyst','10-Senior Analyst','9-Team Lead/Consultant','8-Associate Manager','7-Manager','6-Senior Manager']\n",
        "# training_vals=pjrankdf['Trainings'][:7].tolist()\n",
        "# spec_vals=pjrankdf['Specialization'][:8].tolist()\n",
        "# spec_vals\n",
        "# qualf_values=['btech','mba','mca','bca']\n",
        "# country_vals=['IN','US','CN','PH','SL']\n",
        "\n",
        "\n",
        "# Job_profile_vals\n",
        "# meeting_vals\n",
        "# Job_family_vals\n",
        "# Primary_Skill_vals\n",
        "# secondary_skill_vals\n",
        "# certification_vals\n",
        "# tq_score_vals=[6,3,8,10,12,11,5,4]\n",
        "# tq_prob=[0.05,0.05,0.2,0.2,0.2,0.2,0.05,0.05]\n",
        "# lang_vals\n",
        "# lang_prob=[0.2,0.2,0.2,0.1,0.2,0.1]\n",
        "# manag_prob=[0.3,0.2,0.2,0.1,0.07,0.03,0.1]\n",
        "# training_vals\n",
        "# qual_prob=[0.5,0.2,0.2,0.1]\n",
        "# country_prob=[0.5,0.2,0.05,0.2,0.05]\n",
        "\n",
        "# pjrankdf1['meeting details'] = np.random.choice(meeting_vals, 1000)\n",
        "# pjrankdf1['Job profile'] = np.random.choice(Job_profile_vals, 1000)\n",
        "# pjrankdf1['Job family'] = np.random.choice(Job_family_vals, 1000)\n",
        "# pjrankdf1['Overall experience(in years)']=np.random.choice(range(1,30),1000)\n",
        "# pjrankdf1['Primary Skill'] = np.random.choice(Primary_Skill_vals, 1000)\n",
        "# pjrankdf1['secondary Skill'] = np.random.choice(secondary_skill_vals, 1000)\n",
        "# pjrankdf1['certifications'] = np.random.choice(certification_vals, 1000)\n",
        "# pjrankdf1['Org Experience']=np.random.choice(range(1,20),1000)\n",
        "# pjrankdf1['TQ score'] = np.random.choice(tq_score_vals,1000, p=tq_prob)\n",
        "# pjrankdf1['Language proficiency'] = np.random.choice(lang_vals,1000, p=lang_prob)\n",
        "# pjrankdf1['Employment type (Full time/part time)'] = np.random.choice(['full time','part time'],1000, p=[0.8,0.2])\n",
        "# pjrankdf1['Management level'] = np.random.choice(manag_vals,1000, p=manag_prob)\n",
        "# pjrankdf1['Trainings'] = np.random.choice(training_vals,1000)\n",
        "# pjrankdf1['Specialization'] = np.random.choice(spec_vals,1000)\n",
        "# pjrankdf1['Highest qualification'] = np.random.choice(qualf_values,1000,p=qual_prob)\n",
        "# pjrankdf1['countrycode'] = np.random.choice(country_vals,1000,p=country_prob)\n",
        "# pjrankdf1['Meeting required/optional'] = np.random.choice(['required','optional'],1000,p=[0.4,0.6])\n",
        "# pjrankdf1['Email mention(yes/No)'] = np.random.choice(['yes','No'],1000,p=[0.3,0.7])\n",
        "# pjrankdf1['meeting type(series/instance)'] = np.random.choice(['series','instance'],1000,p=[0.3,0.7])\n",
        "# pjrankdf1['recent emails related to meeting invite(yes/No)'] = np.random.choice(['yes','no'],1000,p=[0.7,0.3])\n",
        "\n",
        "# values = np.random.normal(0.5, 0.3, 1000)\n",
        "# values_df=pd.DataFrame(values)\n",
        "# Minmaxnormalizer1=MinMaxScaler()\n",
        "# scaled_values=Minmaxnormalizer1.fit_transform(values_df)\n",
        "# pjrankdf1['rank']=scaled_values\n",
        "# pjrankdf1=pjrankdf1.rename(columns={'rank':'rank_score'})\n",
        "\n",
        "# pjrankdf1.to_excel('pjrank2.xlsx',index=False)\n",
        "# pjrankdf1.tail()"
      ],
      "metadata": {
        "id": "9x0WAJlfRYHl"
      },
      "execution_count": null,
      "outputs": []
    },
    {
      "cell_type": "markdown",
      "source": [
        "###Feature engineering till xlsx2"
      ],
      "metadata": {
        "id": "BbpFVoHfgDDG"
      }
    },
    {
      "cell_type": "code",
      "source": [
        "\n",
        "#Binary columns\n",
        "# pjrankdf1['Employment type (Full time/part time)']=pjrankdf1['Employment type (Full time/part time)'].replace({'full time':1,'part time':0})\n",
        "# pjrankdf1['Meeting required/optional']=pjrankdf1['Meeting required/optional'].replace({'required':1,'optional':0})\n",
        "# pjrankdf1['Email mention(yes/No)']=pjrankdf1['Email mention(yes/No)'].replace({'yes':1,'No':0})\n",
        "# pjrankdf1['meeting type(series/instance)']=pjrankdf1['meeting type(series/instance)'].replace({'instance':1,'series':0})\n",
        "# pjrankdf1['recent emails related to meeting invite(yes/No)']=pjrankdf1['recent emails related to meeting invite(yes/No)'].replace({'yes':1,'no':0})\n",
        "\n",
        "#columns with numeric values\n",
        "\n",
        "# Minmaxnormalizer2=MinMaxScaler()\n",
        "# pjrankdf1['Overall experience(in years)'] =Minmaxnormalizer2.fit_transform(pd.DataFrame(pjrankdf1['Overall experience(in years)']))\n",
        "\n",
        "# Minmaxnormalizer3=MinMaxScaler()\n",
        "# pjrankdf1['Org Experience'] =Minmaxnormalizer3.fit_transform(pd.DataFrame(pjrankdf1['Org Experience']))\n",
        "\n",
        "\n",
        "# Minmaxnormalizer4=MinMaxScaler()\n",
        "# pjrankdf1['TQ score'] =Minmaxnormalizer4.fit_transform(pd.DataFrame(pjrankdf1['TQ score']))\n",
        "\n",
        "#categorical data\n",
        "\n",
        "\n",
        "# pjrankdf1['Management level'] = pjrankdf1['Management level'].replace({'12-Associate':1,'11-Analyst':2,'10-Senior Analyst':3,'9-Team Lead/Consultant':4,'8-Associate Manager':5,'7-Manager':6,'6-Senior Manager':7})\n",
        "# Minmaxnormalizer5=MinMaxScaler()\n",
        "# pjrankdf1['Management level'] =Minmaxnormalizer5.fit_transform(pd.DataFrame(pjrankdf1['Management level']))\n"
      ],
      "metadata": {
        "id": "KrzzpT9-ZBbt"
      },
      "execution_count": null,
      "outputs": []
    },
    {
      "cell_type": "code",
      "source": [
        "# pjrankdf1=pd.read_excel('pjrank2.xlsx')\n",
        "# pjrankdf1.to_excel('pjrank2.xlsx',index=False)\n",
        "pjrankdf1.head()\n",
        "\n"
      ],
      "metadata": {
        "id": "GqaoyajCcoR5",
        "outputId": "414abd2c-e857-4162-a275-c02abd898137",
        "colab": {
          "base_uri": "https://localhost:8080/",
          "height": 278
        }
      },
      "execution_count": 4,
      "outputs": [
        {
          "output_type": "execute_result",
          "data": {
            "text/plain": [
              "   meeting details  Job profile  Job family  Overall experience(in years)  \\\n",
              "0                6            2           1                      0.821429   \n",
              "1                6            0           9                      0.428571   \n",
              "2                3           10           3                      0.571429   \n",
              "3                8           10           3                      0.285714   \n",
              "4                8            8           3                      0.357143   \n",
              "\n",
              "   Primary Skill  secondary Skill  certifications  Org Experience  TQ score  \\\n",
              "0             10                5               4        0.611111  0.000000   \n",
              "1              5               13               1        0.944444  1.000000   \n",
              "2              6                1               1        0.388889  0.888889   \n",
              "3              0                9               8        0.722222  1.000000   \n",
              "4              2                3               1        0.777778  0.888889   \n",
              "\n",
              "   Employment type (Full time/part time)  Management level  Specialization  \\\n",
              "0                                      1          0.166667               1   \n",
              "1                                      1          0.666667               1   \n",
              "2                                      0          0.000000               1   \n",
              "3                                      1          0.000000               6   \n",
              "4                                      1          0.000000               4   \n",
              "\n",
              "   Trainings  Highest qualification  countrycode  Meeting required/optional  \\\n",
              "0          0                      3            1                          1   \n",
              "1          5                      3            2                          0   \n",
              "2          1                      3            2                          1   \n",
              "3          2                      0            1                          0   \n",
              "4          3                      2            1                          0   \n",
              "\n",
              "   Email mention(yes/No)  meeting type(series/instance)  \\\n",
              "0                      1                              0   \n",
              "1                      0                              1   \n",
              "2                      0                              1   \n",
              "3                      0                              0   \n",
              "4                      1                              1   \n",
              "\n",
              "   recent emails related to meeting invite(yes/No)  rank_score  \n",
              "0                                                1    0.389648  \n",
              "1                                                1    0.230539  \n",
              "2                                                1    0.611211  \n",
              "3                                                1    0.457625  \n",
              "4                                                0    0.358788  "
            ],
            "text/html": [
              "\n",
              "  <div id=\"df-0e3efc09-7b6f-4de8-bd87-659bfc7a1d8c\" class=\"colab-df-container\">\n",
              "    <div>\n",
              "<style scoped>\n",
              "    .dataframe tbody tr th:only-of-type {\n",
              "        vertical-align: middle;\n",
              "    }\n",
              "\n",
              "    .dataframe tbody tr th {\n",
              "        vertical-align: top;\n",
              "    }\n",
              "\n",
              "    .dataframe thead th {\n",
              "        text-align: right;\n",
              "    }\n",
              "</style>\n",
              "<table border=\"1\" class=\"dataframe\">\n",
              "  <thead>\n",
              "    <tr style=\"text-align: right;\">\n",
              "      <th></th>\n",
              "      <th>meeting details</th>\n",
              "      <th>Job profile</th>\n",
              "      <th>Job family</th>\n",
              "      <th>Overall experience(in years)</th>\n",
              "      <th>Primary Skill</th>\n",
              "      <th>secondary Skill</th>\n",
              "      <th>certifications</th>\n",
              "      <th>Org Experience</th>\n",
              "      <th>TQ score</th>\n",
              "      <th>Employment type (Full time/part time)</th>\n",
              "      <th>Management level</th>\n",
              "      <th>Specialization</th>\n",
              "      <th>Trainings</th>\n",
              "      <th>Highest qualification</th>\n",
              "      <th>countrycode</th>\n",
              "      <th>Meeting required/optional</th>\n",
              "      <th>Email mention(yes/No)</th>\n",
              "      <th>meeting type(series/instance)</th>\n",
              "      <th>recent emails related to meeting invite(yes/No)</th>\n",
              "      <th>rank_score</th>\n",
              "    </tr>\n",
              "  </thead>\n",
              "  <tbody>\n",
              "    <tr>\n",
              "      <th>0</th>\n",
              "      <td>6</td>\n",
              "      <td>2</td>\n",
              "      <td>1</td>\n",
              "      <td>0.821429</td>\n",
              "      <td>10</td>\n",
              "      <td>5</td>\n",
              "      <td>4</td>\n",
              "      <td>0.611111</td>\n",
              "      <td>0.000000</td>\n",
              "      <td>1</td>\n",
              "      <td>0.166667</td>\n",
              "      <td>1</td>\n",
              "      <td>0</td>\n",
              "      <td>3</td>\n",
              "      <td>1</td>\n",
              "      <td>1</td>\n",
              "      <td>1</td>\n",
              "      <td>0</td>\n",
              "      <td>1</td>\n",
              "      <td>0.389648</td>\n",
              "    </tr>\n",
              "    <tr>\n",
              "      <th>1</th>\n",
              "      <td>6</td>\n",
              "      <td>0</td>\n",
              "      <td>9</td>\n",
              "      <td>0.428571</td>\n",
              "      <td>5</td>\n",
              "      <td>13</td>\n",
              "      <td>1</td>\n",
              "      <td>0.944444</td>\n",
              "      <td>1.000000</td>\n",
              "      <td>1</td>\n",
              "      <td>0.666667</td>\n",
              "      <td>1</td>\n",
              "      <td>5</td>\n",
              "      <td>3</td>\n",
              "      <td>2</td>\n",
              "      <td>0</td>\n",
              "      <td>0</td>\n",
              "      <td>1</td>\n",
              "      <td>1</td>\n",
              "      <td>0.230539</td>\n",
              "    </tr>\n",
              "    <tr>\n",
              "      <th>2</th>\n",
              "      <td>3</td>\n",
              "      <td>10</td>\n",
              "      <td>3</td>\n",
              "      <td>0.571429</td>\n",
              "      <td>6</td>\n",
              "      <td>1</td>\n",
              "      <td>1</td>\n",
              "      <td>0.388889</td>\n",
              "      <td>0.888889</td>\n",
              "      <td>0</td>\n",
              "      <td>0.000000</td>\n",
              "      <td>1</td>\n",
              "      <td>1</td>\n",
              "      <td>3</td>\n",
              "      <td>2</td>\n",
              "      <td>1</td>\n",
              "      <td>0</td>\n",
              "      <td>1</td>\n",
              "      <td>1</td>\n",
              "      <td>0.611211</td>\n",
              "    </tr>\n",
              "    <tr>\n",
              "      <th>3</th>\n",
              "      <td>8</td>\n",
              "      <td>10</td>\n",
              "      <td>3</td>\n",
              "      <td>0.285714</td>\n",
              "      <td>0</td>\n",
              "      <td>9</td>\n",
              "      <td>8</td>\n",
              "      <td>0.722222</td>\n",
              "      <td>1.000000</td>\n",
              "      <td>1</td>\n",
              "      <td>0.000000</td>\n",
              "      <td>6</td>\n",
              "      <td>2</td>\n",
              "      <td>0</td>\n",
              "      <td>1</td>\n",
              "      <td>0</td>\n",
              "      <td>0</td>\n",
              "      <td>0</td>\n",
              "      <td>1</td>\n",
              "      <td>0.457625</td>\n",
              "    </tr>\n",
              "    <tr>\n",
              "      <th>4</th>\n",
              "      <td>8</td>\n",
              "      <td>8</td>\n",
              "      <td>3</td>\n",
              "      <td>0.357143</td>\n",
              "      <td>2</td>\n",
              "      <td>3</td>\n",
              "      <td>1</td>\n",
              "      <td>0.777778</td>\n",
              "      <td>0.888889</td>\n",
              "      <td>1</td>\n",
              "      <td>0.000000</td>\n",
              "      <td>4</td>\n",
              "      <td>3</td>\n",
              "      <td>2</td>\n",
              "      <td>1</td>\n",
              "      <td>0</td>\n",
              "      <td>1</td>\n",
              "      <td>1</td>\n",
              "      <td>0</td>\n",
              "      <td>0.358788</td>\n",
              "    </tr>\n",
              "  </tbody>\n",
              "</table>\n",
              "</div>\n",
              "    <div class=\"colab-df-buttons\">\n",
              "\n",
              "  <div class=\"colab-df-container\">\n",
              "    <button class=\"colab-df-convert\" onclick=\"convertToInteractive('df-0e3efc09-7b6f-4de8-bd87-659bfc7a1d8c')\"\n",
              "            title=\"Convert this dataframe to an interactive table.\"\n",
              "            style=\"display:none;\">\n",
              "\n",
              "  <svg xmlns=\"http://www.w3.org/2000/svg\" height=\"24px\" viewBox=\"0 -960 960 960\">\n",
              "    <path d=\"M120-120v-720h720v720H120Zm60-500h600v-160H180v160Zm220 220h160v-160H400v160Zm0 220h160v-160H400v160ZM180-400h160v-160H180v160Zm440 0h160v-160H620v160ZM180-180h160v-160H180v160Zm440 0h160v-160H620v160Z\"/>\n",
              "  </svg>\n",
              "    </button>\n",
              "\n",
              "  <style>\n",
              "    .colab-df-container {\n",
              "      display:flex;\n",
              "      gap: 12px;\n",
              "    }\n",
              "\n",
              "    .colab-df-convert {\n",
              "      background-color: #E8F0FE;\n",
              "      border: none;\n",
              "      border-radius: 50%;\n",
              "      cursor: pointer;\n",
              "      display: none;\n",
              "      fill: #1967D2;\n",
              "      height: 32px;\n",
              "      padding: 0 0 0 0;\n",
              "      width: 32px;\n",
              "    }\n",
              "\n",
              "    .colab-df-convert:hover {\n",
              "      background-color: #E2EBFA;\n",
              "      box-shadow: 0px 1px 2px rgba(60, 64, 67, 0.3), 0px 1px 3px 1px rgba(60, 64, 67, 0.15);\n",
              "      fill: #174EA6;\n",
              "    }\n",
              "\n",
              "    .colab-df-buttons div {\n",
              "      margin-bottom: 4px;\n",
              "    }\n",
              "\n",
              "    [theme=dark] .colab-df-convert {\n",
              "      background-color: #3B4455;\n",
              "      fill: #D2E3FC;\n",
              "    }\n",
              "\n",
              "    [theme=dark] .colab-df-convert:hover {\n",
              "      background-color: #434B5C;\n",
              "      box-shadow: 0px 1px 3px 1px rgba(0, 0, 0, 0.15);\n",
              "      filter: drop-shadow(0px 1px 2px rgba(0, 0, 0, 0.3));\n",
              "      fill: #FFFFFF;\n",
              "    }\n",
              "  </style>\n",
              "\n",
              "    <script>\n",
              "      const buttonEl =\n",
              "        document.querySelector('#df-0e3efc09-7b6f-4de8-bd87-659bfc7a1d8c button.colab-df-convert');\n",
              "      buttonEl.style.display =\n",
              "        google.colab.kernel.accessAllowed ? 'block' : 'none';\n",
              "\n",
              "      async function convertToInteractive(key) {\n",
              "        const element = document.querySelector('#df-0e3efc09-7b6f-4de8-bd87-659bfc7a1d8c');\n",
              "        const dataTable =\n",
              "          await google.colab.kernel.invokeFunction('convertToInteractive',\n",
              "                                                    [key], {});\n",
              "        if (!dataTable) return;\n",
              "\n",
              "        const docLinkHtml = 'Like what you see? Visit the ' +\n",
              "          '<a target=\"_blank\" href=https://colab.research.google.com/notebooks/data_table.ipynb>data table notebook</a>'\n",
              "          + ' to learn more about interactive tables.';\n",
              "        element.innerHTML = '';\n",
              "        dataTable['output_type'] = 'display_data';\n",
              "        await google.colab.output.renderOutput(dataTable, element);\n",
              "        const docLink = document.createElement('div');\n",
              "        docLink.innerHTML = docLinkHtml;\n",
              "        element.appendChild(docLink);\n",
              "      }\n",
              "    </script>\n",
              "  </div>\n",
              "\n",
              "\n",
              "<div id=\"df-350b1ba5-0c46-4f67-b216-840ac28f1e69\">\n",
              "  <button class=\"colab-df-quickchart\" onclick=\"quickchart('df-350b1ba5-0c46-4f67-b216-840ac28f1e69')\"\n",
              "            title=\"Suggest charts.\"\n",
              "            style=\"display:none;\">\n",
              "\n",
              "<svg xmlns=\"http://www.w3.org/2000/svg\" height=\"24px\"viewBox=\"0 0 24 24\"\n",
              "     width=\"24px\">\n",
              "    <g>\n",
              "        <path d=\"M19 3H5c-1.1 0-2 .9-2 2v14c0 1.1.9 2 2 2h14c1.1 0 2-.9 2-2V5c0-1.1-.9-2-2-2zM9 17H7v-7h2v7zm4 0h-2V7h2v10zm4 0h-2v-4h2v4z\"/>\n",
              "    </g>\n",
              "</svg>\n",
              "  </button>\n",
              "\n",
              "<style>\n",
              "  .colab-df-quickchart {\n",
              "      --bg-color: #E8F0FE;\n",
              "      --fill-color: #1967D2;\n",
              "      --hover-bg-color: #E2EBFA;\n",
              "      --hover-fill-color: #174EA6;\n",
              "      --disabled-fill-color: #AAA;\n",
              "      --disabled-bg-color: #DDD;\n",
              "  }\n",
              "\n",
              "  [theme=dark] .colab-df-quickchart {\n",
              "      --bg-color: #3B4455;\n",
              "      --fill-color: #D2E3FC;\n",
              "      --hover-bg-color: #434B5C;\n",
              "      --hover-fill-color: #FFFFFF;\n",
              "      --disabled-bg-color: #3B4455;\n",
              "      --disabled-fill-color: #666;\n",
              "  }\n",
              "\n",
              "  .colab-df-quickchart {\n",
              "    background-color: var(--bg-color);\n",
              "    border: none;\n",
              "    border-radius: 50%;\n",
              "    cursor: pointer;\n",
              "    display: none;\n",
              "    fill: var(--fill-color);\n",
              "    height: 32px;\n",
              "    padding: 0;\n",
              "    width: 32px;\n",
              "  }\n",
              "\n",
              "  .colab-df-quickchart:hover {\n",
              "    background-color: var(--hover-bg-color);\n",
              "    box-shadow: 0 1px 2px rgba(60, 64, 67, 0.3), 0 1px 3px 1px rgba(60, 64, 67, 0.15);\n",
              "    fill: var(--button-hover-fill-color);\n",
              "  }\n",
              "\n",
              "  .colab-df-quickchart-complete:disabled,\n",
              "  .colab-df-quickchart-complete:disabled:hover {\n",
              "    background-color: var(--disabled-bg-color);\n",
              "    fill: var(--disabled-fill-color);\n",
              "    box-shadow: none;\n",
              "  }\n",
              "\n",
              "  .colab-df-spinner {\n",
              "    border: 2px solid var(--fill-color);\n",
              "    border-color: transparent;\n",
              "    border-bottom-color: var(--fill-color);\n",
              "    animation:\n",
              "      spin 1s steps(1) infinite;\n",
              "  }\n",
              "\n",
              "  @keyframes spin {\n",
              "    0% {\n",
              "      border-color: transparent;\n",
              "      border-bottom-color: var(--fill-color);\n",
              "      border-left-color: var(--fill-color);\n",
              "    }\n",
              "    20% {\n",
              "      border-color: transparent;\n",
              "      border-left-color: var(--fill-color);\n",
              "      border-top-color: var(--fill-color);\n",
              "    }\n",
              "    30% {\n",
              "      border-color: transparent;\n",
              "      border-left-color: var(--fill-color);\n",
              "      border-top-color: var(--fill-color);\n",
              "      border-right-color: var(--fill-color);\n",
              "    }\n",
              "    40% {\n",
              "      border-color: transparent;\n",
              "      border-right-color: var(--fill-color);\n",
              "      border-top-color: var(--fill-color);\n",
              "    }\n",
              "    60% {\n",
              "      border-color: transparent;\n",
              "      border-right-color: var(--fill-color);\n",
              "    }\n",
              "    80% {\n",
              "      border-color: transparent;\n",
              "      border-right-color: var(--fill-color);\n",
              "      border-bottom-color: var(--fill-color);\n",
              "    }\n",
              "    90% {\n",
              "      border-color: transparent;\n",
              "      border-bottom-color: var(--fill-color);\n",
              "    }\n",
              "  }\n",
              "</style>\n",
              "\n",
              "  <script>\n",
              "    async function quickchart(key) {\n",
              "      const quickchartButtonEl =\n",
              "        document.querySelector('#' + key + ' button');\n",
              "      quickchartButtonEl.disabled = true;  // To prevent multiple clicks.\n",
              "      quickchartButtonEl.classList.add('colab-df-spinner');\n",
              "      try {\n",
              "        const charts = await google.colab.kernel.invokeFunction(\n",
              "            'suggestCharts', [key], {});\n",
              "      } catch (error) {\n",
              "        console.error('Error during call to suggestCharts:', error);\n",
              "      }\n",
              "      quickchartButtonEl.classList.remove('colab-df-spinner');\n",
              "      quickchartButtonEl.classList.add('colab-df-quickchart-complete');\n",
              "    }\n",
              "    (() => {\n",
              "      let quickchartButtonEl =\n",
              "        document.querySelector('#df-350b1ba5-0c46-4f67-b216-840ac28f1e69 button');\n",
              "      quickchartButtonEl.style.display =\n",
              "        google.colab.kernel.accessAllowed ? 'block' : 'none';\n",
              "    })();\n",
              "  </script>\n",
              "</div>\n",
              "    </div>\n",
              "  </div>\n"
            ]
          },
          "metadata": {},
          "execution_count": 4
        }
      ]
    },
    {
      "cell_type": "markdown",
      "source": [
        "###Feature engineering for approach1 not scaling all columns"
      ],
      "metadata": {
        "id": "HoKGXLhOqaca"
      }
    },
    {
      "cell_type": "code",
      "source": [
        "# #LabelEncoder for categorical values\n",
        "\n",
        "# encoder=LabelEncoder()\n",
        "# pjrankdf1['meeting details']=encoder.fit_transform(pjrankdf1['meeting details'])\n",
        "\n",
        "# encoder1=LabelEncoder()\n",
        "# pjrankdf1['Job profile']=encoder1.fit_transform(pjrankdf1['Job profile'])\n",
        "\n",
        "# encoder2=LabelEncoder()\n",
        "# pjrankdf1['Job family']=encoder2.fit_transform(pjrankdf1['Job family'])\n",
        "\n",
        "# encoder3=LabelEncoder()\n",
        "# pjrankdf1['secondary Skill']=encoder3.fit_transform(pjrankdf1['secondary Skill'])\n",
        "\n",
        "# encoder4=LabelEncoder()\n",
        "# pjrankdf1['Primary Skill']=encoder4.fit_transform(pjrankdf1['Primary Skill'])\n",
        "\n",
        "# encoder5=LabelEncoder()\n",
        "# pjrankdf1['certifications']=encoder5.fit_transform(pjrankdf1['certifications'])\n",
        "\n",
        "# encoder6=LabelEncoder()\n",
        "# pjrankdf1['Specialization']=encoder6.fit_transform(pjrankdf1['Specialization'])\n",
        "\n",
        "# encoder7=LabelEncoder()\n",
        "# pjrankdf1['Trainings']=encoder7.fit_transform(pjrankdf1['Trainings'])\n",
        "\n",
        "# encoder8=LabelEncoder()\n",
        "# pjrankdf1['Highest qualification']=encoder8.fit_transform(pjrankdf1['Highest qualification'])\n",
        "\n",
        "# encoder9=LabelEncoder()\n",
        "# pjrankdf1['countrycode']=encoder9.fit_transform(pjrankdf1['countrycode'])\n",
        "\n",
        "# pjrankdf1=pjrankdf1.drop(\"Language proficiency\", axis=1)\n"
      ],
      "metadata": {
        "id": "_Pu4UB5KcoUi"
      },
      "execution_count": 3,
      "outputs": []
    },
    {
      "cell_type": "markdown",
      "source": [
        "###Linear Regression"
      ],
      "metadata": {
        "id": "Dozfu-K1SAPy"
      }
    },
    {
      "cell_type": "code",
      "source": [
        "# X=pjrankdf1.iloc[:,:19]\n",
        "# Y=pjrankdf1.iloc[:,19]\n",
        "\n",
        "# seaborn.heatmap(X.corr())\n",
        "\n",
        "# X_train, X_test, Y_train, Y_test=train_test_split(X,Y, test_size=0.2)\n",
        "# linearregression=LinearRegression()\n",
        "\n",
        "# linearregression.fit(X_train,Y_train)\n",
        "\n",
        "# Y_pred=linearregression.predict(X_test)\n",
        "\n",
        "# mean_squared_error(Y_test,Y_pred)\n",
        "\n",
        "# mean_absolute_error(Y_test,Y_pred)\n",
        "\n",
        "# print('Linear regression - mse:{}, mae={}'.format(mean_squared_error(Y_test,Y_pred), mean_absolute_error(Y_test,Y_pred)))\n",
        "\n",
        "# diff=(Y_test-Y_pred)\n",
        "# new_df= pd.DataFrame(diff)\n",
        "# new_df=new_df.rename(columns={'rank_score':\"diff\"})\n",
        "# new_df['act']=Y_test\n",
        "# new_df['pred']=Y_pred\n",
        "# new_df\n",
        "\n"
      ],
      "metadata": {
        "id": "nDrLtw5fcoXI",
        "outputId": "12a27f04-d2c0-4b62-938e-b50f8402766b",
        "colab": {
          "base_uri": "https://localhost:8080/"
        }
      },
      "execution_count": null,
      "outputs": [
        {
          "output_type": "stream",
          "name": "stdout",
          "text": [
            "Linear regression - mse:0.01662962784981235, mae=0.10607163921076798\n"
          ]
        }
      ]
    },
    {
      "cell_type": "code",
      "source": [
        "degree=2\n",
        "model = make_pipeline(PolynomialFeatures(degree), LinearRegression())\n",
        "\n",
        "model.fit(X_train,Y_train)\n",
        "Y_pred=model.predict(X_test)\n",
        "print('Linear regression with {}- mse:{}, mae={}'.format(degree, mean_squared_error(Y_test,Y_pred), mean_absolute_error(Y_test,Y_pred)))"
      ],
      "metadata": {
        "id": "X7Vh1WoJdeN_",
        "outputId": "37eb6549-7e6f-4da0-f064-dd7cd20e6b51",
        "colab": {
          "base_uri": "https://localhost:8080/"
        }
      },
      "execution_count": null,
      "outputs": [
        {
          "output_type": "stream",
          "name": "stdout",
          "text": [
            "Linear regression with 2- mse:0.02713435850133152, mae=0.13072012568132074\n"
          ]
        }
      ]
    },
    {
      "cell_type": "code",
      "source": [
        "degree=3\n",
        "model = make_pipeline(PolynomialFeatures(degree), LinearRegression())\n",
        "\n",
        "model.fit(X_train,Y_train)\n",
        "Y_pred=model.predict(X_test)\n",
        "print('Linear regression with {}- mse:{}, mae={}'.format(degree, mean_squared_error(Y_test,Y_pred), mean_absolute_error(Y_test,Y_pred)))"
      ],
      "metadata": {
        "id": "sYUE6M7RE-G_",
        "outputId": "d08c6ef6-6990-44ab-d101-7a47acc2aa24",
        "colab": {
          "base_uri": "https://localhost:8080/"
        }
      },
      "execution_count": null,
      "outputs": [
        {
          "output_type": "stream",
          "name": "stdout",
          "text": [
            "Linear regression with 3- mse:0.21419910905983852, mae=0.3558111430786664\n"
          ]
        }
      ]
    },
    {
      "cell_type": "code",
      "source": [
        "degree=5\n",
        "model = make_pipeline(PolynomialFeatures(degree), LinearRegression())\n",
        "\n",
        "model.fit(X_train,Y_train)\n",
        "Y_pred=model.predict(X_test)\n",
        "print('Linear regression with {}- mse:{}, mae={}'.format(degree, mean_squared_error(Y_test,Y_pred), mean_absolute_error(Y_test,Y_pred)))"
      ],
      "metadata": {
        "id": "3k3brXEHE-Je",
        "outputId": "c26ce2e3-4e1c-4670-d6a7-9a8253a9d73f",
        "colab": {
          "base_uri": "https://localhost:8080/"
        }
      },
      "execution_count": null,
      "outputs": [
        {
          "output_type": "stream",
          "name": "stdout",
          "text": [
            "Linear regression with 5- mse:0.22331749137406917, mae=0.3483161956816332\n"
          ]
        }
      ]
    },
    {
      "cell_type": "markdown",
      "source": [
        "###Lasso, Ridge,K nearest, Kernal"
      ],
      "metadata": {
        "id": "vMOcPgJ9SXPe"
      }
    },
    {
      "cell_type": "code",
      "source": [
        "ridgeregression=Ridge(alpha=.5,max_iter=2000,solver='auto')\n",
        "ridgeregression.fit(X_train,Y_train)\n",
        "Y_pred=ridgeregression.predict(X_test)\n",
        "print('Ridge regression- mse:{}, mae={}'.format(degree, mean_squared_error(Y_test,Y_pred), mean_absolute_error(Y_test,Y_pred)))"
      ],
      "metadata": {
        "id": "EMfXc2TbE-MH",
        "outputId": "630b6f65-47cd-4b55-eb9b-e0565d00c21d",
        "colab": {
          "base_uri": "https://localhost:8080/"
        }
      },
      "execution_count": null,
      "outputs": [
        {
          "output_type": "stream",
          "name": "stdout",
          "text": [
            "Ridge regression- mse:5, mae=0.016628171406207422\n"
          ]
        }
      ]
    },
    {
      "cell_type": "code",
      "source": [
        "ridgeregression=Ridge(alpha=0.1,max_iter=2000,solver='auto')\n",
        "ridgeregression.fit(X_train,Y_train)\n",
        "Y_pred=ridgeregression.predict(X_test)\n",
        "print('Ridge regression- mse:{}, mae={}'.format(degree, mean_squared_error(Y_test,Y_pred), mean_absolute_error(Y_test,Y_pred)))"
      ],
      "metadata": {
        "id": "fDJ4kSQjQx7w",
        "outputId": "88740844-cee8-4ab0-e16d-a904f815c65b",
        "colab": {
          "base_uri": "https://localhost:8080/"
        }
      },
      "execution_count": null,
      "outputs": [
        {
          "output_type": "stream",
          "name": "stdout",
          "text": [
            "Ridge regression- mse:5, mae=0.016629334358445193\n"
          ]
        }
      ]
    },
    {
      "cell_type": "code",
      "source": [
        "lasso_regression = Lasso(alpha=0.1,max_iter=1000)\n",
        "lasso_regression.fit(X_train,Y_train)\n",
        "Y_pred=lasso_regression.predict(X_test)\n",
        "print('Lasso regression- mse:{}, mae={}'.format(degree, mean_squared_error(Y_test,Y_pred), mean_absolute_error(Y_test,Y_pred)))\n",
        "\n",
        "#not much variations"
      ],
      "metadata": {
        "id": "adwkJdQtQx-r",
        "outputId": "ebf2429c-133a-4d6d-958a-7a325ad8ebc5",
        "colab": {
          "base_uri": "https://localhost:8080/"
        }
      },
      "execution_count": null,
      "outputs": [
        {
          "output_type": "stream",
          "name": "stdout",
          "text": [
            "Lasso regression- mse:5, mae=0.016135835170598852\n"
          ]
        }
      ]
    },
    {
      "cell_type": "code",
      "source": [
        "knn_regression = KNeighborsRegressor(n_neighbors=5)\n",
        "knn_regression.fit(X_train,Y_train)\n",
        "Y_pred = knn_regression.predict(X_test)\n",
        "print('Knn regression- mse:{}, mae={}'.format(degree, mean_squared_error(Y_test,Y_pred), mean_absolute_error(Y_test,Y_pred)))"
      ],
      "metadata": {
        "id": "icWT65-zQyB8",
        "outputId": "c5645ee9-d6b2-448b-8a8d-fc3460721db2",
        "colab": {
          "base_uri": "https://localhost:8080/"
        }
      },
      "execution_count": null,
      "outputs": [
        {
          "output_type": "stream",
          "name": "stdout",
          "text": [
            "Knn regression- mse:5, mae=0.021013993476378237\n"
          ]
        }
      ]
    },
    {
      "cell_type": "code",
      "source": [
        "kernel_regression = KernelRidge(alpha=1)\n",
        "kernel_regression.fit(X_train,Y_train)\n",
        "Y_pred = kernel_regression.predict(X_test)\n",
        "print('Kernal ridge - mse:{}, mae={}'.format(degree, mean_squared_error(Y_test,Y_pred), mean_absolute_error(Y_test,Y_pred)))"
      ],
      "metadata": {
        "id": "QreHK_HNXBaf",
        "outputId": "1e8b863b-2b13-485f-8721-b82d806b3ac8",
        "colab": {
          "base_uri": "https://localhost:8080/"
        }
      },
      "execution_count": null,
      "outputs": [
        {
          "output_type": "stream",
          "name": "stdout",
          "text": [
            "Kernal ridge - mse:5, mae=0.021974756050840316\n"
          ]
        }
      ]
    },
    {
      "cell_type": "markdown",
      "source": [
        "###All column scaling approach2"
      ],
      "metadata": {
        "id": "WWFxkG3bZ8lj"
      }
    },
    {
      "cell_type": "code",
      "source": [
        "# pjrankdf1=pd.read_excel('pjrank2.xlsx')\n",
        "\n",
        "#LabelEncoder for categorical values\n",
        "\n",
        "# encoder=LabelEncoder()\n",
        "# pjrankdf1['meeting details']=encoder.fit_transform(pjrankdf1['meeting details'])\n",
        "\n",
        "# encoder1=LabelEncoder()\n",
        "# pjrankdf1['Job profile']=encoder1.fit_transform(pjrankdf1['Job profile'])\n",
        "\n",
        "# encoder2=LabelEncoder()\n",
        "# pjrankdf1['Job family']=encoder2.fit_transform(pjrankdf1['Job family'])\n",
        "\n",
        "# encoder3=LabelEncoder()\n",
        "# pjrankdf1['secondary Skill']=encoder3.fit_transform(pjrankdf1['secondary Skill'])\n",
        "\n",
        "# encoder4=LabelEncoder()\n",
        "# pjrankdf1['Primary Skill']=encoder4.fit_transform(pjrankdf1['Primary Skill'])\n",
        "\n",
        "# encoder5=LabelEncoder()\n",
        "# pjrankdf1['certifications']=encoder5.fit_transform(pjrankdf1['certifications'])\n",
        "\n",
        "# encoder6=LabelEncoder()\n",
        "# pjrankdf1['Specialization']=encoder6.fit_transform(pjrankdf1['Specialization'])\n",
        "\n",
        "# encoder7=LabelEncoder()\n",
        "# pjrankdf1['Trainings']=encoder7.fit_transform(pjrankdf1['Trainings'])\n",
        "\n",
        "# encoder8=LabelEncoder()\n",
        "# pjrankdf1['Highest qualification']=encoder8.fit_transform(pjrankdf1['Highest qualification'])\n",
        "\n",
        "# encoder9=LabelEncoder()\n",
        "# pjrankdf1['countrycode']=encoder9.fit_transform(pjrankdf1['countrycode'])\n",
        "\n",
        "# pjrankdf1=pjrankdf1.drop(\"Language proficiency\", axis=1)\n",
        "\n",
        "# All column scaling\n",
        "\n",
        "# Minmaxnormalizera=MinMaxScaler()\n",
        "\n",
        "# columns_to_scale = ['meeting details','Job profile','Job family','Primary Skill','secondary Skill','certifications','Specialization','Trainings','Highest qualification','countrycode']\n",
        "\n",
        "# # Use a loop to scale each column\n",
        "# for column in columns_to_scale:\n",
        "#     pjrankdf1[column] = Minmaxnormalizera.fit_transform(pd.DataFrame(pjrankdf1[column]))\n",
        "\n",
        "pjrankdf1.head()\n",
        "\n",
        "\n",
        "\n"
      ],
      "metadata": {
        "id": "73UhAgx8XBir",
        "outputId": "850aed5d-2e4f-4eb1-d072-9a8329d20da4",
        "colab": {
          "base_uri": "https://localhost:8080/"
        }
      },
      "execution_count": null,
      "outputs": [
        {
          "output_type": "execute_result",
          "data": {
            "text/plain": [
              "   meeting details  Job profile  Job family  Overall experience(in years)  \\\n",
              "0         0.666667     0.181818    0.111111                      0.821429   \n",
              "1         0.666667     0.000000    1.000000                      0.428571   \n",
              "2         0.333333     0.909091    0.333333                      0.571429   \n",
              "3         0.888889     0.909091    0.333333                      0.285714   \n",
              "4         0.888889     0.727273    0.333333                      0.357143   \n",
              "\n",
              "   Primary Skill  secondary Skill  certifications  Org Experience  TQ score  \\\n",
              "0       0.714286         0.384615           0.500        0.611111  0.000000   \n",
              "1       0.357143         1.000000           0.125        0.944444  1.000000   \n",
              "2       0.428571         0.076923           0.125        0.388889  0.888889   \n",
              "3       0.000000         0.692308           1.000        0.722222  1.000000   \n",
              "4       0.142857         0.230769           0.125        0.777778  0.888889   \n",
              "\n",
              "   Employment type (Full time/part time)  Management level  Specialization  \\\n",
              "0                                      1          0.166667        0.142857   \n",
              "1                                      1          0.666667        0.142857   \n",
              "2                                      0          0.000000        0.142857   \n",
              "3                                      1          0.000000        0.857143   \n",
              "4                                      1          0.000000        0.571429   \n",
              "\n",
              "   Trainings  Highest qualification  countrycode  Meeting required/optional  \\\n",
              "0   0.000000               1.000000         0.25                          1   \n",
              "1   0.833333               1.000000         0.50                          0   \n",
              "2   0.166667               1.000000         0.50                          1   \n",
              "3   0.333333               0.000000         0.25                          0   \n",
              "4   0.500000               0.666667         0.25                          0   \n",
              "\n",
              "   Email mention(yes/No)  meeting type(series/instance)  \\\n",
              "0                      1                              0   \n",
              "1                      0                              1   \n",
              "2                      0                              1   \n",
              "3                      0                              0   \n",
              "4                      1                              1   \n",
              "\n",
              "   recent emails related to meeting invite(yes/No)  rank_score  \n",
              "0                                                1    0.389648  \n",
              "1                                                1    0.230539  \n",
              "2                                                1    0.611211  \n",
              "3                                                1    0.457625  \n",
              "4                                                0    0.358788  "
            ],
            "text/html": [
              "\n",
              "  <div id=\"df-54bb2a08-cfae-47b9-92c8-1a2745d79668\" class=\"colab-df-container\">\n",
              "    <div>\n",
              "<style scoped>\n",
              "    .dataframe tbody tr th:only-of-type {\n",
              "        vertical-align: middle;\n",
              "    }\n",
              "\n",
              "    .dataframe tbody tr th {\n",
              "        vertical-align: top;\n",
              "    }\n",
              "\n",
              "    .dataframe thead th {\n",
              "        text-align: right;\n",
              "    }\n",
              "</style>\n",
              "<table border=\"1\" class=\"dataframe\">\n",
              "  <thead>\n",
              "    <tr style=\"text-align: right;\">\n",
              "      <th></th>\n",
              "      <th>meeting details</th>\n",
              "      <th>Job profile</th>\n",
              "      <th>Job family</th>\n",
              "      <th>Overall experience(in years)</th>\n",
              "      <th>Primary Skill</th>\n",
              "      <th>secondary Skill</th>\n",
              "      <th>certifications</th>\n",
              "      <th>Org Experience</th>\n",
              "      <th>TQ score</th>\n",
              "      <th>Employment type (Full time/part time)</th>\n",
              "      <th>Management level</th>\n",
              "      <th>Specialization</th>\n",
              "      <th>Trainings</th>\n",
              "      <th>Highest qualification</th>\n",
              "      <th>countrycode</th>\n",
              "      <th>Meeting required/optional</th>\n",
              "      <th>Email mention(yes/No)</th>\n",
              "      <th>meeting type(series/instance)</th>\n",
              "      <th>recent emails related to meeting invite(yes/No)</th>\n",
              "      <th>rank_score</th>\n",
              "    </tr>\n",
              "  </thead>\n",
              "  <tbody>\n",
              "    <tr>\n",
              "      <th>0</th>\n",
              "      <td>0.666667</td>\n",
              "      <td>0.181818</td>\n",
              "      <td>0.111111</td>\n",
              "      <td>0.821429</td>\n",
              "      <td>0.714286</td>\n",
              "      <td>0.384615</td>\n",
              "      <td>0.500</td>\n",
              "      <td>0.611111</td>\n",
              "      <td>0.000000</td>\n",
              "      <td>1</td>\n",
              "      <td>0.166667</td>\n",
              "      <td>0.142857</td>\n",
              "      <td>0.000000</td>\n",
              "      <td>1.000000</td>\n",
              "      <td>0.25</td>\n",
              "      <td>1</td>\n",
              "      <td>1</td>\n",
              "      <td>0</td>\n",
              "      <td>1</td>\n",
              "      <td>0.389648</td>\n",
              "    </tr>\n",
              "    <tr>\n",
              "      <th>1</th>\n",
              "      <td>0.666667</td>\n",
              "      <td>0.000000</td>\n",
              "      <td>1.000000</td>\n",
              "      <td>0.428571</td>\n",
              "      <td>0.357143</td>\n",
              "      <td>1.000000</td>\n",
              "      <td>0.125</td>\n",
              "      <td>0.944444</td>\n",
              "      <td>1.000000</td>\n",
              "      <td>1</td>\n",
              "      <td>0.666667</td>\n",
              "      <td>0.142857</td>\n",
              "      <td>0.833333</td>\n",
              "      <td>1.000000</td>\n",
              "      <td>0.50</td>\n",
              "      <td>0</td>\n",
              "      <td>0</td>\n",
              "      <td>1</td>\n",
              "      <td>1</td>\n",
              "      <td>0.230539</td>\n",
              "    </tr>\n",
              "    <tr>\n",
              "      <th>2</th>\n",
              "      <td>0.333333</td>\n",
              "      <td>0.909091</td>\n",
              "      <td>0.333333</td>\n",
              "      <td>0.571429</td>\n",
              "      <td>0.428571</td>\n",
              "      <td>0.076923</td>\n",
              "      <td>0.125</td>\n",
              "      <td>0.388889</td>\n",
              "      <td>0.888889</td>\n",
              "      <td>0</td>\n",
              "      <td>0.000000</td>\n",
              "      <td>0.142857</td>\n",
              "      <td>0.166667</td>\n",
              "      <td>1.000000</td>\n",
              "      <td>0.50</td>\n",
              "      <td>1</td>\n",
              "      <td>0</td>\n",
              "      <td>1</td>\n",
              "      <td>1</td>\n",
              "      <td>0.611211</td>\n",
              "    </tr>\n",
              "    <tr>\n",
              "      <th>3</th>\n",
              "      <td>0.888889</td>\n",
              "      <td>0.909091</td>\n",
              "      <td>0.333333</td>\n",
              "      <td>0.285714</td>\n",
              "      <td>0.000000</td>\n",
              "      <td>0.692308</td>\n",
              "      <td>1.000</td>\n",
              "      <td>0.722222</td>\n",
              "      <td>1.000000</td>\n",
              "      <td>1</td>\n",
              "      <td>0.000000</td>\n",
              "      <td>0.857143</td>\n",
              "      <td>0.333333</td>\n",
              "      <td>0.000000</td>\n",
              "      <td>0.25</td>\n",
              "      <td>0</td>\n",
              "      <td>0</td>\n",
              "      <td>0</td>\n",
              "      <td>1</td>\n",
              "      <td>0.457625</td>\n",
              "    </tr>\n",
              "    <tr>\n",
              "      <th>4</th>\n",
              "      <td>0.888889</td>\n",
              "      <td>0.727273</td>\n",
              "      <td>0.333333</td>\n",
              "      <td>0.357143</td>\n",
              "      <td>0.142857</td>\n",
              "      <td>0.230769</td>\n",
              "      <td>0.125</td>\n",
              "      <td>0.777778</td>\n",
              "      <td>0.888889</td>\n",
              "      <td>1</td>\n",
              "      <td>0.000000</td>\n",
              "      <td>0.571429</td>\n",
              "      <td>0.500000</td>\n",
              "      <td>0.666667</td>\n",
              "      <td>0.25</td>\n",
              "      <td>0</td>\n",
              "      <td>1</td>\n",
              "      <td>1</td>\n",
              "      <td>0</td>\n",
              "      <td>0.358788</td>\n",
              "    </tr>\n",
              "  </tbody>\n",
              "</table>\n",
              "</div>\n",
              "    <div class=\"colab-df-buttons\">\n",
              "\n",
              "  <div class=\"colab-df-container\">\n",
              "    <button class=\"colab-df-convert\" onclick=\"convertToInteractive('df-54bb2a08-cfae-47b9-92c8-1a2745d79668')\"\n",
              "            title=\"Convert this dataframe to an interactive table.\"\n",
              "            style=\"display:none;\">\n",
              "\n",
              "  <svg xmlns=\"http://www.w3.org/2000/svg\" height=\"24px\" viewBox=\"0 -960 960 960\">\n",
              "    <path d=\"M120-120v-720h720v720H120Zm60-500h600v-160H180v160Zm220 220h160v-160H400v160Zm0 220h160v-160H400v160ZM180-400h160v-160H180v160Zm440 0h160v-160H620v160ZM180-180h160v-160H180v160Zm440 0h160v-160H620v160Z\"/>\n",
              "  </svg>\n",
              "    </button>\n",
              "\n",
              "  <style>\n",
              "    .colab-df-container {\n",
              "      display:flex;\n",
              "      gap: 12px;\n",
              "    }\n",
              "\n",
              "    .colab-df-convert {\n",
              "      background-color: #E8F0FE;\n",
              "      border: none;\n",
              "      border-radius: 50%;\n",
              "      cursor: pointer;\n",
              "      display: none;\n",
              "      fill: #1967D2;\n",
              "      height: 32px;\n",
              "      padding: 0 0 0 0;\n",
              "      width: 32px;\n",
              "    }\n",
              "\n",
              "    .colab-df-convert:hover {\n",
              "      background-color: #E2EBFA;\n",
              "      box-shadow: 0px 1px 2px rgba(60, 64, 67, 0.3), 0px 1px 3px 1px rgba(60, 64, 67, 0.15);\n",
              "      fill: #174EA6;\n",
              "    }\n",
              "\n",
              "    .colab-df-buttons div {\n",
              "      margin-bottom: 4px;\n",
              "    }\n",
              "\n",
              "    [theme=dark] .colab-df-convert {\n",
              "      background-color: #3B4455;\n",
              "      fill: #D2E3FC;\n",
              "    }\n",
              "\n",
              "    [theme=dark] .colab-df-convert:hover {\n",
              "      background-color: #434B5C;\n",
              "      box-shadow: 0px 1px 3px 1px rgba(0, 0, 0, 0.15);\n",
              "      filter: drop-shadow(0px 1px 2px rgba(0, 0, 0, 0.3));\n",
              "      fill: #FFFFFF;\n",
              "    }\n",
              "  </style>\n",
              "\n",
              "    <script>\n",
              "      const buttonEl =\n",
              "        document.querySelector('#df-54bb2a08-cfae-47b9-92c8-1a2745d79668 button.colab-df-convert');\n",
              "      buttonEl.style.display =\n",
              "        google.colab.kernel.accessAllowed ? 'block' : 'none';\n",
              "\n",
              "      async function convertToInteractive(key) {\n",
              "        const element = document.querySelector('#df-54bb2a08-cfae-47b9-92c8-1a2745d79668');\n",
              "        const dataTable =\n",
              "          await google.colab.kernel.invokeFunction('convertToInteractive',\n",
              "                                                    [key], {});\n",
              "        if (!dataTable) return;\n",
              "\n",
              "        const docLinkHtml = 'Like what you see? Visit the ' +\n",
              "          '<a target=\"_blank\" href=https://colab.research.google.com/notebooks/data_table.ipynb>data table notebook</a>'\n",
              "          + ' to learn more about interactive tables.';\n",
              "        element.innerHTML = '';\n",
              "        dataTable['output_type'] = 'display_data';\n",
              "        await google.colab.output.renderOutput(dataTable, element);\n",
              "        const docLink = document.createElement('div');\n",
              "        docLink.innerHTML = docLinkHtml;\n",
              "        element.appendChild(docLink);\n",
              "      }\n",
              "    </script>\n",
              "  </div>\n",
              "\n",
              "\n",
              "<div id=\"df-832dbfdc-14df-426d-843f-61ca6b8934be\">\n",
              "  <button class=\"colab-df-quickchart\" onclick=\"quickchart('df-832dbfdc-14df-426d-843f-61ca6b8934be')\"\n",
              "            title=\"Suggest charts.\"\n",
              "            style=\"display:none;\">\n",
              "\n",
              "<svg xmlns=\"http://www.w3.org/2000/svg\" height=\"24px\"viewBox=\"0 0 24 24\"\n",
              "     width=\"24px\">\n",
              "    <g>\n",
              "        <path d=\"M19 3H5c-1.1 0-2 .9-2 2v14c0 1.1.9 2 2 2h14c1.1 0 2-.9 2-2V5c0-1.1-.9-2-2-2zM9 17H7v-7h2v7zm4 0h-2V7h2v10zm4 0h-2v-4h2v4z\"/>\n",
              "    </g>\n",
              "</svg>\n",
              "  </button>\n",
              "\n",
              "<style>\n",
              "  .colab-df-quickchart {\n",
              "      --bg-color: #E8F0FE;\n",
              "      --fill-color: #1967D2;\n",
              "      --hover-bg-color: #E2EBFA;\n",
              "      --hover-fill-color: #174EA6;\n",
              "      --disabled-fill-color: #AAA;\n",
              "      --disabled-bg-color: #DDD;\n",
              "  }\n",
              "\n",
              "  [theme=dark] .colab-df-quickchart {\n",
              "      --bg-color: #3B4455;\n",
              "      --fill-color: #D2E3FC;\n",
              "      --hover-bg-color: #434B5C;\n",
              "      --hover-fill-color: #FFFFFF;\n",
              "      --disabled-bg-color: #3B4455;\n",
              "      --disabled-fill-color: #666;\n",
              "  }\n",
              "\n",
              "  .colab-df-quickchart {\n",
              "    background-color: var(--bg-color);\n",
              "    border: none;\n",
              "    border-radius: 50%;\n",
              "    cursor: pointer;\n",
              "    display: none;\n",
              "    fill: var(--fill-color);\n",
              "    height: 32px;\n",
              "    padding: 0;\n",
              "    width: 32px;\n",
              "  }\n",
              "\n",
              "  .colab-df-quickchart:hover {\n",
              "    background-color: var(--hover-bg-color);\n",
              "    box-shadow: 0 1px 2px rgba(60, 64, 67, 0.3), 0 1px 3px 1px rgba(60, 64, 67, 0.15);\n",
              "    fill: var(--button-hover-fill-color);\n",
              "  }\n",
              "\n",
              "  .colab-df-quickchart-complete:disabled,\n",
              "  .colab-df-quickchart-complete:disabled:hover {\n",
              "    background-color: var(--disabled-bg-color);\n",
              "    fill: var(--disabled-fill-color);\n",
              "    box-shadow: none;\n",
              "  }\n",
              "\n",
              "  .colab-df-spinner {\n",
              "    border: 2px solid var(--fill-color);\n",
              "    border-color: transparent;\n",
              "    border-bottom-color: var(--fill-color);\n",
              "    animation:\n",
              "      spin 1s steps(1) infinite;\n",
              "  }\n",
              "\n",
              "  @keyframes spin {\n",
              "    0% {\n",
              "      border-color: transparent;\n",
              "      border-bottom-color: var(--fill-color);\n",
              "      border-left-color: var(--fill-color);\n",
              "    }\n",
              "    20% {\n",
              "      border-color: transparent;\n",
              "      border-left-color: var(--fill-color);\n",
              "      border-top-color: var(--fill-color);\n",
              "    }\n",
              "    30% {\n",
              "      border-color: transparent;\n",
              "      border-left-color: var(--fill-color);\n",
              "      border-top-color: var(--fill-color);\n",
              "      border-right-color: var(--fill-color);\n",
              "    }\n",
              "    40% {\n",
              "      border-color: transparent;\n",
              "      border-right-color: var(--fill-color);\n",
              "      border-top-color: var(--fill-color);\n",
              "    }\n",
              "    60% {\n",
              "      border-color: transparent;\n",
              "      border-right-color: var(--fill-color);\n",
              "    }\n",
              "    80% {\n",
              "      border-color: transparent;\n",
              "      border-right-color: var(--fill-color);\n",
              "      border-bottom-color: var(--fill-color);\n",
              "    }\n",
              "    90% {\n",
              "      border-color: transparent;\n",
              "      border-bottom-color: var(--fill-color);\n",
              "    }\n",
              "  }\n",
              "</style>\n",
              "\n",
              "  <script>\n",
              "    async function quickchart(key) {\n",
              "      const quickchartButtonEl =\n",
              "        document.querySelector('#' + key + ' button');\n",
              "      quickchartButtonEl.disabled = true;  // To prevent multiple clicks.\n",
              "      quickchartButtonEl.classList.add('colab-df-spinner');\n",
              "      try {\n",
              "        const charts = await google.colab.kernel.invokeFunction(\n",
              "            'suggestCharts', [key], {});\n",
              "      } catch (error) {\n",
              "        console.error('Error during call to suggestCharts:', error);\n",
              "      }\n",
              "      quickchartButtonEl.classList.remove('colab-df-spinner');\n",
              "      quickchartButtonEl.classList.add('colab-df-quickchart-complete');\n",
              "    }\n",
              "    (() => {\n",
              "      let quickchartButtonEl =\n",
              "        document.querySelector('#df-832dbfdc-14df-426d-843f-61ca6b8934be button');\n",
              "      quickchartButtonEl.style.display =\n",
              "        google.colab.kernel.accessAllowed ? 'block' : 'none';\n",
              "    })();\n",
              "  </script>\n",
              "</div>\n",
              "    </div>\n",
              "  </div>\n"
            ]
          },
          "metadata": {},
          "execution_count": 50
        }
      ]
    },
    {
      "cell_type": "markdown",
      "source": [
        "###Linear Regression, diff models"
      ],
      "metadata": {
        "id": "BsqsZ8CwjM-Y"
      }
    },
    {
      "cell_type": "code",
      "source": [
        "# X=pjrankdf1.iloc[:,:19]\n",
        "# Y=pjrankdf1.iloc[:,19]\n",
        "\n",
        "# seaborn.heatmap(X.corr())\n",
        "\n",
        "X_train, X_test, Y_train, Y_test=train_test_split(X,Y, test_size=0.2)\n",
        "linearregression=LinearRegression()\n",
        "\n",
        "linearregression.fit(X_train,Y_train)\n",
        "\n",
        "Y_pred=linearregression.predict(X_test)\n",
        "\n",
        "mean_squared_error(Y_test,Y_pred)\n",
        "\n",
        "mean_absolute_error(Y_test,Y_pred)\n",
        "\n",
        "print('Linear regression - mse:{}, mae={}'.format(mean_squared_error(Y_test,Y_pred), mean_absolute_error(Y_test,Y_pred)))\n",
        "\n"
      ],
      "metadata": {
        "id": "LR8ncPUPjQO7",
        "outputId": "f3ad6d34-408a-4826-80ef-59ae92139429",
        "colab": {
          "base_uri": "https://localhost:8080/"
        }
      },
      "execution_count": null,
      "outputs": [
        {
          "output_type": "stream",
          "name": "stdout",
          "text": [
            "Linear regression - mse:0.017652633458887713, mae=0.10496718115795574\n"
          ]
        }
      ]
    },
    {
      "cell_type": "code",
      "source": [
        "degree=3\n",
        "model = make_pipeline(PolynomialFeatures(degree), LinearRegression())\n",
        "\n",
        "model.fit(X_train,Y_train)\n",
        "Y_pred=model.predict(X_test)\n",
        "print('Linear regression with {}- mse:{}, mae={}'.format(degree, mean_squared_error(Y_test,Y_pred), mean_absolute_error(Y_test,Y_pred)))\n"
      ],
      "metadata": {
        "id": "PfC87-aKaJaH",
        "outputId": "db315669-fc06-45fd-9df1-464041736614",
        "colab": {
          "base_uri": "https://localhost:8080/"
        }
      },
      "execution_count": null,
      "outputs": [
        {
          "output_type": "stream",
          "name": "stdout",
          "text": [
            "Linear regression with 3- mse:0.06945155838281386, mae=0.20825490088802998\n"
          ]
        }
      ]
    },
    {
      "cell_type": "code",
      "source": [
        "ridgeregression=Ridge(alpha=.5,max_iter=2000,solver='auto')\n",
        "ridgeregression.fit(X_train,Y_train)\n",
        "Y_pred=ridgeregression.predict(X_test)\n",
        "print('Ridge regression- mse:{}, mae={}'.format(degree, mean_squared_error(Y_test,Y_pred), mean_absolute_error(Y_test,Y_pred)))\n"
      ],
      "metadata": {
        "id": "HMspV8bjaJc5",
        "outputId": "4a3dd1d8-4637-4a12-b4b0-705d8638a6cb",
        "colab": {
          "base_uri": "https://localhost:8080/"
        }
      },
      "execution_count": null,
      "outputs": [
        {
          "output_type": "stream",
          "name": "stdout",
          "text": [
            "Ridge regression- mse:3, mae=0.01764488264393368\n"
          ]
        }
      ]
    },
    {
      "cell_type": "code",
      "source": [
        "ridgeregression=Ridge(alpha=1,max_iter=2000,solver='auto')\n",
        "ridgeregression.fit(X_train,Y_train)\n",
        "Y_pred=ridgeregression.predict(X_test)\n",
        "print('Ridge regression- mse:{}, mae={}'.format(degree, mean_squared_error(Y_test,Y_pred), mean_absolute_error(Y_test,Y_pred)))\n"
      ],
      "metadata": {
        "id": "AJaF1-m-k3Bi",
        "outputId": "03e2e944-54ca-4a1f-e6f8-950cad2c67a4",
        "colab": {
          "base_uri": "https://localhost:8080/"
        }
      },
      "execution_count": null,
      "outputs": [
        {
          "output_type": "stream",
          "name": "stdout",
          "text": [
            "Ridge regression- mse:3, mae=0.017637290075216434\n"
          ]
        }
      ]
    },
    {
      "cell_type": "code",
      "source": [
        "lasso_regression = Lasso(alpha=0.1,max_iter=1000)\n",
        "lasso_regression.fit(X_train,Y_train)\n",
        "Y_pred=lasso_regression.predict(X_test)\n",
        "print('Lasso regression- mse:{}, mae={}'.format(degree, mean_squared_error(Y_test,Y_pred), mean_absolute_error(Y_test,Y_pred)))\n"
      ],
      "metadata": {
        "id": "ZVshMF8Uk3Dz",
        "outputId": "4e2bc419-4276-487d-989c-39cbb8e0869c",
        "colab": {
          "base_uri": "https://localhost:8080/"
        }
      },
      "execution_count": null,
      "outputs": [
        {
          "output_type": "stream",
          "name": "stdout",
          "text": [
            "Lasso regression- mse:3, mae=0.017127457993954927\n"
          ]
        }
      ]
    },
    {
      "cell_type": "code",
      "source": [
        "knn_regression = KNeighborsRegressor(n_neighbors=5)\n",
        "knn_regression.fit(X_train,Y_train)\n",
        "Y_pred = knn_regression.predict(X_test)\n",
        "print('Knn regression- mse:{}, mae={}'.format(degree, mean_squared_error(Y_test,Y_pred), mean_absolute_error(Y_test,Y_pred)))\n"
      ],
      "metadata": {
        "id": "1rP_sumTk3GK",
        "outputId": "64c9d4e7-deca-44a6-96c0-6e7c46c5b023",
        "colab": {
          "base_uri": "https://localhost:8080/"
        }
      },
      "execution_count": null,
      "outputs": [
        {
          "output_type": "stream",
          "name": "stdout",
          "text": [
            "Knn regression- mse:3, mae=0.020064880652429548\n"
          ]
        }
      ]
    },
    {
      "cell_type": "code",
      "source": [
        "kernel_regression = KernelRidge(alpha=1)\n",
        "kernel_regression.fit(X_train,Y_train)\n",
        "Y_pred = kernel_regression.predict(X_test)\n",
        "print('Kernal ridge - mse:{}, mae={}'.format(degree, mean_squared_error(Y_test,Y_pred), mean_absolute_error(Y_test,Y_pred)))\n"
      ],
      "metadata": {
        "id": "yuYbRYOsk3IZ",
        "outputId": "a181a776-9f77-400e-8378-039de1bd5dd9",
        "colab": {
          "base_uri": "https://localhost:8080/"
        }
      },
      "execution_count": null,
      "outputs": [
        {
          "output_type": "stream",
          "name": "stdout",
          "text": [
            "Kernal ridge - mse:3, mae=0.02447195924876462\n"
          ]
        }
      ]
    },
    {
      "cell_type": "code",
      "source": [
        "# X=pjrankdf1.iloc[:,:19]\n",
        "# Y=pjrankdf1.iloc[:,19]\n",
        "# X_train, X_test, Y_train, Y_test=train_test_split(X,Y, test_size=0.2)\n",
        "\n",
        "model_regressor=ExtraTreesRegressor()\n",
        "model_regressor.fit(X_train,Y_train)\n",
        "\n",
        "# print(model_regressor.feature_importances_)\n",
        "Y_pred=model_regressor.predict(X_test)\n",
        "print('maxtreesregressor- mse:{}, mae={}'.format( mean_squared_error(Y_test,Y_pred), mean_absolute_error(Y_test,Y_pred)))"
      ],
      "metadata": {
        "id": "sKL3jVyGk3L5",
        "colab": {
          "base_uri": "https://localhost:8080/"
        },
        "outputId": "14a54275-69ab-455c-fd34-15ad5ad9da69"
      },
      "execution_count": 23,
      "outputs": [
        {
          "output_type": "stream",
          "name": "stdout",
          "text": [
            "maxtreesregressor- mse:0.017732762607066514, mae=0.10607669798572036\n"
          ]
        }
      ]
    },
    {
      "cell_type": "code",
      "source": [
        "rf=RandomForestRegressor()\n",
        "n_estimators=[int(x) for x in np.linspace(start=100,stop=1200,num=12)]\n",
        "max_features=['auto','sqrt']\n",
        "max_depth=[int(x) for x in np.linspace(5,30,num=6)]\n",
        "min_samples_split=[2,5,10,15,100]\n",
        "min_samples_leaf=[1,2,5,10]"
      ],
      "metadata": {
        "id": "r3e2oAgv2fU1"
      },
      "execution_count": 29,
      "outputs": []
    },
    {
      "cell_type": "code",
      "source": [
        "#Parameter tuning using RandomizedSearchCV\n",
        "from sklearn.model_selection import RandomizedSearchCV\n",
        "random_grid={'n_estimators':n_estimators,'max_features':max_features,'max_depth':max_depth,'min_samples_split':min_samples_split,'min_samples_leaf':min_samples_leaf}\n",
        "\n",
        "rf_random=RandomizedSearchCV(estimator=rf, param_distributions=random_grid,scoring='neg_mean_squared_error',n_iter=10,cv=5,verbose=2,random_state=42,n_jobs=1)\n",
        "\n",
        "rf_random.fit(X_train,Y_train)\n",
        "# rf_random.best_params_\n"
      ],
      "metadata": {
        "id": "S-vuPZkb2fXc"
      },
      "execution_count": null,
      "outputs": []
    },
    {
      "cell_type": "code",
      "source": [
        "Y_pred=rf_random.predict(X_test)\n",
        "print('Randomforestregressor- mse:{}, mae={}'.format( mean_squared_error(Y_test,Y_pred), mean_absolute_error(Y_test,Y_pred)))"
      ],
      "metadata": {
        "colab": {
          "base_uri": "https://localhost:8080/"
        },
        "id": "eZiJ_W7e2fak",
        "outputId": "5b26b0c8-72b7-4e4e-f263-f7b3f4a59bed"
      },
      "execution_count": 38,
      "outputs": [
        {
          "output_type": "stream",
          "name": "stdout",
          "text": [
            "Randomforestregressor- mse:0.015881994762012287, mae=0.09845583028382718\n"
          ]
        }
      ]
    },
    {
      "cell_type": "code",
      "source": [
        "seaborn.distplot(Y_test-Y_pred)"
      ],
      "metadata": {
        "id": "nWHv9BxI9ew2",
        "outputId": "e491b78b-6b1a-4b63-cf95-8992c0b59966",
        "colab": {
          "base_uri": "https://localhost:8080/",
          "height": 658
        }
      },
      "execution_count": 32,
      "outputs": [
        {
          "output_type": "stream",
          "name": "stderr",
          "text": [
            "<ipython-input-32-2679fee4c864>:1: UserWarning: \n",
            "\n",
            "`distplot` is a deprecated function and will be removed in seaborn v0.14.0.\n",
            "\n",
            "Please adapt your code to use either `displot` (a figure-level function with\n",
            "similar flexibility) or `histplot` (an axes-level function for histograms).\n",
            "\n",
            "For a guide to updating your code to use the new functions, please see\n",
            "https://gist.github.com/mwaskom/de44147ed2974457ad6372750bbe5751\n",
            "\n",
            "  seaborn.distplot(Y_test-Y_pred)\n"
          ]
        },
        {
          "output_type": "execute_result",
          "data": {
            "text/plain": [
              "<Axes: xlabel='rank_score', ylabel='Density'>"
            ]
          },
          "metadata": {},
          "execution_count": 32
        },
        {
          "output_type": "display_data",
          "data": {
            "text/plain": [
              "<Figure size 640x480 with 1 Axes>"
            ],
            "image/png": "[encoded data removed]"
          },
          "metadata": {}
        }
      ]
    },
    {
      "cell_type": "code",
      "source": [],
      "metadata": {
        "id": "UblHXNpY9e11"
      },
      "execution_count": null,
      "outputs": []
    },
    {
      "cell_type": "code",
      "source": [],
      "metadata": {
        "id": "row5tAvz9e5R"
      },
      "execution_count": null,
      "outputs": []
    },
    {
      "cell_type": "code",
      "source": [],
      "metadata": {
        "id": "H-v_NBzoA879"
      },
      "execution_count": null,
      "outputs": []
    },
    {
      "cell_type": "code",
      "source": [],
      "metadata": {
        "id": "rHD9wjFnA8_c"
      },
      "execution_count": null,
      "outputs": []
    },
    {
      "cell_type": "code",
      "source": [],
      "metadata": {
        "id": "Y4IHc1gMCffx"
      },
      "execution_count": null,
      "outputs": []
    },
    {
      "cell_type": "code",
      "source": [],
      "metadata": {
        "id": "dn_qq3-gCfh8"
      },
      "execution_count": null,
      "outputs": []
    },
    {
      "cell_type": "code",
      "source": [],
      "metadata": {
        "id": "OR6u8DSECfkE"
      },
      "execution_count": null,
      "outputs": []
    },
    {
      "cell_type": "code",
      "source": [],
      "metadata": {
        "id": "0G1CliP9CfmD"
      },
      "execution_count": null,
      "outputs": []
    },
    {
      "cell_type": "code",
      "source": [],
      "metadata": {
        "id": "602YKK-VCfoM"
      },
      "execution_count": null,
      "outputs": []
    },
    {
      "cell_type": "code",
      "source": [],
      "metadata": {
        "id": "XzMcLRl8Cfrg"
      },
      "execution_count": null,
      "outputs": []
    },
    {
      "cell_type": "code",
      "source": [
        "perm_importance = permutation_importance(model_regressor, X_test,Y_test, n_repeats=30, random_state=0)\n",
        "\n",
        "# Access and print the feature importances\n",
        "feature_importances = perm_importance.importances_mean\n",
        "feature_names = X.columns  # Replace with your actual feature names\n",
        "for feature_name, importance in zip(feature_names, feature_importances):\n",
        "    print(f\"{feature_name}: {importance:.4f}\")"
      ],
      "metadata": {
        "id": "OPYex185E-Rr",
        "colab": {
          "base_uri": "https://localhost:8080/"
        },
        "outputId": "a8ec461a-0cc6-4d6d-e041-8928567843a2"
      },
      "execution_count": 17,
      "outputs": [
        {
          "output_type": "stream",
          "name": "stdout",
          "text": [
            "meeting details: -0.0120\n",
            "Job profile: 0.0136\n",
            "Job family: -0.0213\n",
            "Overall experience(in years): -0.0064\n",
            "Primary Skill: 0.0003\n",
            "secondary Skill: 0.0246\n",
            "certifications: -0.0064\n",
            "Org Experience: -0.0183\n",
            "TQ score: -0.0004\n",
            "Employment type (Full time/part time): -0.0169\n",
            "Management level: -0.0260\n",
            "Specialization: -0.0085\n",
            "Trainings: -0.0159\n",
            "Highest qualification: -0.0076\n",
            "countrycode: -0.0100\n",
            "Meeting required/optional: 0.0068\n",
            "Email mention(yes/No): 0.0226\n",
            "meeting type(series/instance): -0.0072\n",
            "recent emails related to meeting invite(yes/No): -0.0139\n"
          ]
        }
      ]
    },
    {
      "cell_type": "code",
      "source": [
        "##Text data processing approach using tfidf\n",
        "from sklearn.decomposition import PCA\n",
        "from sklearn.feature_extraction.text import TfidfVectorizer\n",
        "\n",
        "mod_data=pjrankdf1['Primary Skill'].str.lower()\n",
        "\n",
        "# replace not char or digit with whitespace\n",
        "mod_data1=mod_data.replace('[^a-zA-Z0-9]', ' ', regex = True)\n",
        "\n",
        "# Convert collection of raw documents to a matrix of TF-IDF features with TfidfVectorizer\n",
        "\n",
        "vectorizer = TfidfVectorizer(min_df=5)\n",
        "X_tfidf = vectorizer.fit_transform(pjrankdf1['Primary Skill'])\n",
        "\n",
        "mod_data_df = pd.DataFrame(X_tfidf.toarray())\n",
        "\n",
        "word_dict = dict((v, k) for k, v in vectorizer.vocabulary_.items())\n",
        "mod_data_df = mod_data_df.rename(columns=word_dict)\n",
        "# mod_data_df\n",
        "\n",
        "pca = PCA()\n",
        "mod_data_df=pca.fit_transform(mod_data_df)\n",
        "mod_data_df[0]"
      ],
      "metadata": {
        "id": "lWlHHgRBMZsn",
        "outputId": "acb9fbee-5376-4d9e-9fdf-79ffdcb4f29d",
        "colab": {
          "base_uri": "https://localhost:8080/"
        }
      },
      "execution_count": null,
      "outputs": [
        {
          "output_type": "execute_result",
          "data": {
            "text/plain": [
              "array([ 5.85621691e-01,  2.41829604e-01,  1.34759944e-02, -4.33643895e-01,\n",
              "       -7.27911943e-02,  2.81171000e-03, -2.17905870e-02, -9.76566212e-03,\n",
              "       -2.26817569e-02, -2.12254667e-03,  3.59700708e-15, -1.15171717e-01,\n",
              "        2.87508621e-02,  4.26106656e-01,  2.00591989e-14, -4.13937040e-16,\n",
              "       -1.26793830e-16, -8.36741489e-16,  2.45486574e-15, -2.02908424e-16,\n",
              "        2.42484292e-17,  3.19161477e-17, -6.46358357e-18,  9.84539113e-17,\n",
              "        1.20192700e-17, -9.32634210e-19, -1.00780336e-18,  9.40249610e-19,\n",
              "       -1.60451532e-18,  8.03290023e-19, -1.00597996e-18, -9.22686768e-20])"
            ]
          },
          "metadata": {},
          "execution_count": 3
        }
      ]
    },
    {
      "cell_type": "code",
      "source": [],
      "metadata": {
        "id": "Xd9IQ_6nnUSc"
      },
      "execution_count": null,
      "outputs": []
    },
    {
      "cell_type": "code",
      "source": [],
      "metadata": {
        "id": "0e2kjhQ_b_0C"
      },
      "execution_count": null,
      "outputs": []
    },
    {
      "cell_type": "code",
      "source": [
        "\n"
      ],
      "metadata": {
        "id": "jPFNMQJ7ZB16"
      },
      "execution_count": null,
      "outputs": []
    },
    {
      "cell_type": "code",
      "source": [],
      "metadata": {
        "id": "LjixoCIwZCBa"
      },
      "execution_count": null,
      "outputs": []
    }
  ]
}